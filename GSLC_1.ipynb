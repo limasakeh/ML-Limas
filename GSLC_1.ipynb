{
 "cells": [
  {
   "cell_type": "markdown",
   "metadata": {},
   "source": [
    "# Untuk Read file listings.csv"
   ]
  },
  {
   "cell_type": "code",
   "execution_count": 2,
   "metadata": {},
   "outputs": [
    {
     "name": "stdout",
     "output_type": "stream",
     "text": [
      "      id                                 name  host_id  host_name  \\\n",
      "0  49091    COZICOMFORT LONG TERM STAY ROOM 2   266763  Francesca   \n",
      "1  50646      Pleasant Room along Bukit Timah   227796    Sujatha   \n",
      "2  56334                          COZICOMFORT   266763  Francesca   \n",
      "3  71609  Ensuite Room (Room 1 & 2) near EXPO   367042    Belinda   \n",
      "4  71896      B&B  Room 1 near Airport & EXPO   367042    Belinda   \n",
      "\n",
      "  neighbourhood_group neighbourhood  latitude  longitude     room_type  price  \\\n",
      "0        North Region     Woodlands   1.44255  103.79580  Private room     83   \n",
      "1      Central Region   Bukit Timah   1.33235  103.78521  Private room     81   \n",
      "2        North Region     Woodlands   1.44246  103.79667  Private room     69   \n",
      "3         East Region      Tampines   1.34541  103.95712  Private room    206   \n",
      "4         East Region      Tampines   1.34567  103.95963  Private room     94   \n",
      "\n",
      "   minimum_nights  number_of_reviews last_review  reviews_per_month  \\\n",
      "0             180                  1  2013-10-21               0.01   \n",
      "1              90                 18  2014-12-26               0.28   \n",
      "2               6                 20  2015-10-01               0.20   \n",
      "3               1                 14  2019-08-11               0.15   \n",
      "4               1                 22  2019-07-28               0.22   \n",
      "\n",
      "   calculated_host_listings_count  availability_365  \n",
      "0                               2               365  \n",
      "1                               1               365  \n",
      "2                               2               365  \n",
      "3                               9               353  \n",
      "4                               9               355  \n"
     ]
    }
   ],
   "source": [
    "import pandas as pd\n",
    "\n",
    "sgAirbnbData = pd.read_csv(\"listings.csv\", names=[\"id\",\"name\",\"host_id\",\"host_name\",\"neighbourhood_group\",\"neighbourhood\"\n",
    "                                                 ,\"latitude\",\"longitude\",\"room_type\",\"price\",\"minimum_nights\",\"number_of_reviews\",\n",
    "                                                 \"last_review\",\"reviews_per_month\",\"calculated_host_listings_count\",\"availability_365\"],\n",
    "                          skiprows = 1, delimiter=\",\")\n",
    "\n",
    "print(sgAirbnbData.head())"
   ]
  },
  {
   "cell_type": "markdown",
   "metadata": {},
   "source": [
    "# Mencari min value dari tiap data"
   ]
  },
  {
   "cell_type": "code",
   "execution_count": 25,
   "metadata": {},
   "outputs": [
    {
     "name": "stdout",
     "output_type": "stream",
     "text": [
      "id                                                   49091\n",
      "host_id                                              23666\n",
      "host_name                         (Email hidden by Airbnb)\n",
      "neighbourhood_group                         Central Region\n",
      "neighbourhood                                   Ang Mo Kio\n",
      "latitude                                           1.24387\n",
      "longitude                                          103.647\n",
      "room_type                                  Entire home/apt\n",
      "price                                                    0\n",
      "minimum_nights                                           1\n",
      "number_of_reviews                                        0\n",
      "reviews_per_month                                     0.01\n",
      "calculated_host_listings_count                           1\n",
      "availability_365                                         0\n",
      "dtype: object\n",
      "Lowest id is : 49091\n",
      "Lowest host_id is : 23666\n",
      "Lowest host_name is : (Email hidden by Airbnb)\n",
      "Lowest neighbourhood_group is : Central Region\n",
      "Lowest neighbourhood is : Ang Mo Kio\n",
      "Lowest latitude is : 1.24387\n",
      "Lowest longitude is : 103.64656\n",
      "Lowest room_type is : Entire home/apt\n",
      "Lowest price is : 0\n",
      "Lowest minimum_nights is : 1\n",
      "Lowest number_of_reviews is : 0\n",
      "Lowest reviews_per_month is : 0.01\n",
      "Lowest calculated_host_listings_count is : 1\n",
      "Lowest availability_365 is : 0\n"
     ]
    }
   ],
   "source": [
    "minValue = sgAirbnbData.min()\n",
    "\n",
    "print(minValue)\n",
    "\n",
    "for index, items in minValue.iteritems():\n",
    "    print(\"Lowest\", index, \"is :\", str(items))\n"
   ]
  },
  {
   "cell_type": "markdown",
   "metadata": {},
   "source": [
    "# mencari max value dari tiap data"
   ]
  },
  {
   "cell_type": "code",
   "execution_count": 26,
   "metadata": {},
   "outputs": [
    {
     "name": "stdout",
     "output_type": "stream",
     "text": [
      "id                                   38112762\n",
      "host_id                             288567551\n",
      "host_name                                  ｼﾝ\n",
      "neighbourhood_group               West Region\n",
      "neighbourhood                          Yishun\n",
      "latitude                              1.45459\n",
      "longitude                             103.973\n",
      "room_type                         Shared room\n",
      "price                                   10000\n",
      "minimum_nights                           1000\n",
      "number_of_reviews                         323\n",
      "reviews_per_month                          13\n",
      "calculated_host_listings_count            274\n",
      "availability_365                          365\n",
      "dtype: object\n",
      "Highest id is : 38112762\n",
      "Highest host_id is : 288567551\n",
      "Highest host_name is : ｼﾝ\n",
      "Highest neighbourhood_group is : West Region\n",
      "Highest neighbourhood is : Yishun\n",
      "Highest latitude is : 1.45459\n",
      "Highest longitude is : 103.97341999999999\n",
      "Highest room_type is : Shared room\n",
      "Highest price is : 10000\n",
      "Highest minimum_nights is : 1000\n",
      "Highest number_of_reviews is : 323\n",
      "Highest reviews_per_month is : 13.0\n",
      "Highest calculated_host_listings_count is : 274\n",
      "Highest availability_365 is : 365\n"
     ]
    }
   ],
   "source": [
    "maxValue = sgAirbnbData.max()\n",
    "\n",
    "print(maxValue)\n",
    "\n",
    "for index, items in maxValue.iteritems():\n",
    "    print(\"Highest\", index, \"is :\", str(items))"
   ]
  },
  {
   "cell_type": "markdown",
   "metadata": {},
   "source": [
    "# Menghapus 1 row dimana salah satu datanya NULL"
   ]
  },
  {
   "cell_type": "code",
   "execution_count": 14,
   "metadata": {},
   "outputs": [
    {
     "name": "stdout",
     "output_type": "stream",
     "text": [
      "False\n",
      "5148\n"
     ]
    }
   ],
   "source": [
    "sgAirbnbDataDropNull = sgAirbnbData.dropna()\n",
    "\n",
    "print(sgAirbnbDataDropNull.isna().values.any())\n",
    "\n",
    "print(len(sgAirbnbDataDropNull))"
   ]
  },
  {
   "cell_type": "markdown",
   "metadata": {},
   "source": [
    "# Mengganti value NULL menjadi 0"
   ]
  },
  {
   "cell_type": "code",
   "execution_count": 15,
   "metadata": {},
   "outputs": [
    {
     "name": "stdout",
     "output_type": "stream",
     "text": [
      "False\n",
      "7907\n"
     ]
    }
   ],
   "source": [
    "sgAirbnbDataReplaceNull = sgAirbnbData.fillna(0)\n",
    "\n",
    "print(sgAirbnbDataReplaceNull.isna().values.any())\n",
    "\n",
    "print(len(sgAirbnbDataReplaceNull))\n",
    "                                              \n"
   ]
  },
  {
   "cell_type": "markdown",
   "metadata": {},
   "source": [
    "# Mencari satu row secara spesifik, kemudian fill NaN dengan 0"
   ]
  },
  {
   "cell_type": "code",
   "execution_count": 47,
   "metadata": {
    "scrolled": false
   },
   "outputs": [
    {
     "name": "stdout",
     "output_type": "stream",
     "text": [
      "        id                                             name  host_id  \\\n",
      "18  355955  Double room in an Authentic Peranakan Shophouse  1759905   \n",
      "\n",
      "   host_name neighbourhood_group neighbourhood  latitude  longitude  \\\n",
      "18    Aresha      Central Region       Geylang    1.3142  103.90232   \n",
      "\n",
      "       room_type  price  minimum_nights  number_of_reviews last_review  \\\n",
      "18  Private room     81              90                  0           0   \n",
      "\n",
      "   reviews_per_month  calculated_host_listings_count  availability_365  \n",
      "18                 0                               1               173  \n"
     ]
    }
   ],
   "source": [
    "searchValue = 355955\n",
    "print(sgAirbnbData.loc[sgAirbnbData[\"id\"] == searchValue].fillna(\"0\"))"
   ]
  },
  {
   "cell_type": "markdown",
   "metadata": {},
   "source": [
    "# Mencari 1 column dimana id merupakan paling rendah / tinggi,\n",
    "# dan print hanya kolom id hingga host_name"
   ]
  },
  {
   "cell_type": "code",
   "execution_count": 40,
   "metadata": {},
   "outputs": [
    {
     "name": "stdout",
     "output_type": "stream",
     "text": [
      "Lowest ID : \n",
      "       id                               name  host_id  host_name\n",
      "0  49091  COZICOMFORT LONG TERM STAY ROOM 2   266763  Francesca\n",
      "\n",
      "\n",
      "\n",
      "Highest ID :\n",
      "             id                                               name   host_id  \\\n",
      "7906  38112762  Amazing room with private bathroom walk to Orc...  28788520   \n",
      "\n",
      "     host_name  \n",
      "7906   Terence  \n"
     ]
    }
   ],
   "source": [
    "print(\"Lowest ID : \\n\", sgAirbnbData[sgAirbnbData.id == sgAirbnbData.id.min()].loc[:,\"id\":\"host_name\"])\n",
    "\n",
    "print(\"\\n\\n\")\n",
    "\n",
    "print(\"Highest ID :\\n\", sgAirbnbData[sgAirbnbData.id == sgAirbnbData.id.max()].loc[:,\"id\":\"host_name\"])\n"
   ]
  },
  {
   "cell_type": "markdown",
   "metadata": {},
   "source": [
    "# Mencari mean dari integer yang ada dalam data"
   ]
  },
  {
   "cell_type": "code",
   "execution_count": 55,
   "metadata": {},
   "outputs": [
    {
     "name": "stdout",
     "output_type": "stream",
     "text": [
      "Average  id is : 23388624.629568737\n",
      "Average  host_id is : 91144807.40533705\n",
      "Average  latitude is : 1.314192464904513\n",
      "Average  longitude is : 103.84878745794845\n",
      "Average  price is : 169.33299607942328\n",
      "Average  minimum_nights is : 17.510054382192994\n",
      "Average  number_of_reviews is : 12.807385860629822\n",
      "Average  reviews_per_month is : 1.0436686735288356\n",
      "Average  calculated_host_listings_count is : 40.60768938914885\n",
      "Average  availability_365 is : 208.72631845200456\n"
     ]
    }
   ],
   "source": [
    "meanValue = sgAirbnbData.mean()\n",
    "\n",
    "pd.options.display.float_format = '{:10,.2f}'.format\n",
    "\n",
    "\n",
    "for index, items in meanValue.iteritems():\n",
    "    print(\"Average \", index, \"is :\", str(items))"
   ]
  },
  {
   "cell_type": "code",
   "execution_count": null,
   "metadata": {},
   "outputs": [],
   "source": []
  }
 ],
 "metadata": {
  "kernelspec": {
   "display_name": "Python 3",
   "language": "python",
   "name": "python3"
  },
  "language_info": {
   "codemirror_mode": {
    "name": "ipython",
    "version": 3
   },
   "file_extension": ".py",
   "mimetype": "text/x-python",
   "name": "python",
   "nbconvert_exporter": "python",
   "pygments_lexer": "ipython3",
   "version": "3.7.4"
  }
 },
 "nbformat": 4,
 "nbformat_minor": 2
}
